{
  "nbformat": 4,
  "nbformat_minor": 0,
  "metadata": {
    "kernelspec": {
      "display_name": "Python 3",
      "language": "python",
      "name": "python3"
    },
    "language_info": {
      "codemirror_mode": {
        "name": "ipython",
        "version": 3
      },
      "file_extension": ".py",
      "mimetype": "text/x-python",
      "name": "python",
      "nbconvert_exporter": "python",
      "pygments_lexer": "ipython3",
      "version": "3.7.7"
    },
    "pycharm": {
      "stem_cell": {
        "cell_type": "raw",
        "metadata": {
          "collapsed": false
        },
        "source": [
          "print('hello world')\n",
          "\n",
          "\n"
        ]
      }
    },
    "colab": {
      "name": "Jupyter.ipynb",
      "provenance": [],
      "include_colab_link": true
    }
  },
  "cells": [
    {
      "cell_type": "markdown",
      "metadata": {
        "id": "view-in-github",
        "colab_type": "text"
      },
      "source": [
        "<a href=\"https://colab.research.google.com/github/ngkenzy/Master/blob/master/Jupyter.ipynb\" target=\"_parent\"><img src=\"https://colab.research.google.com/assets/colab-badge.svg\" alt=\"Open In Colab\"/></a>"
      ]
    },
    {
      "cell_type": "code",
      "metadata": {
        "pycharm": {
          "name": "#%%\n"
        },
        "id": "mRmdcJhR8uVs",
        "colab_type": "code",
        "colab": {},
        "outputId": "bdcdb056-933b-42e7-8aa4-413ef4c57e86"
      },
      "source": [
        "import numpy as np\n",
        "\n",
        "a = np.array([1,2,3,4])\n",
        "b = np.array([5,6,7,8])\n",
        "\n",
        "print(a[0])\n",
        "print(b[1])\n",
        "\n",
        "c = np.array([\n",
        "    [1,2,3],\n",
        "    [4,5,6],\n",
        "    [7,8,9]\n",
        "])\n",
        "\n",
        "x = np.array([1,2,3,4])\n",
        "y = np.array([5,6,7,8])\n",
        "\n",
        "print(x + y)\n"
      ],
      "execution_count": null,
      "outputs": [
        {
          "output_type": "stream",
          "text": [
            "1\n",
            "6\n",
            "[ 6  8 10 12]\n"
          ],
          "name": "stdout"
        }
      ]
    },
    {
      "cell_type": "code",
      "metadata": {
        "id": "2_Fb2_rl8uV0",
        "colab_type": "code",
        "colab": {},
        "outputId": "0fa62d2a-b511-49f1-bb4e-7dcfe998571d"
      },
      "source": [
        "import pandas as pd\n",
        "\n",
        "df = pd.read_csv('pokemon_data.csv')\n",
        "\n",
        "# print(df.head(5))\n",
        "\n",
        "# df_xlsx = pd.read_excel('pokemon_data.xlsx')\n",
        "# print(df_xlsx.head(3))\n",
        "\n",
        "# df = pd.read_csv('pokemon_data.txt', delimiter='\\t')\n",
        "\n",
        "# print(df.head(5))\n",
        "\n",
        "df['HP']"
      ],
      "execution_count": null,
      "outputs": [
        {
          "output_type": "execute_result",
          "data": {
            "text/plain": [
              "0      45\n",
              "1      60\n",
              "2      80\n",
              "3      80\n",
              "4      39\n",
              "       ..\n",
              "795    50\n",
              "796    50\n",
              "797    80\n",
              "798    80\n",
              "799    80\n",
              "Name: HP, Length: 800, dtype: int64"
            ]
          },
          "metadata": {
            "tags": []
          },
          "execution_count": 3
        }
      ]
    },
    {
      "cell_type": "code",
      "metadata": {
        "id": "-h2ovBgI8uV8",
        "colab_type": "code",
        "colab": {},
        "outputId": "b80156fa-1e1e-4638-fb7b-16ab5faae0d3"
      },
      "source": [
        "import pandas as pd\n",
        "\n",
        "df = pd.read_csv('pokemon_data.csv')\n",
        "\n",
        "# print(df.head(5))\n",
        "\n",
        "# df_xlsx = pd.read_excel('pokemon_data.xlsx')\n",
        "# print(df_xlsx.head(3))\n",
        "\n",
        "# df = pd.read_csv('pokemon_data.txt', delimiter='\\t')\n",
        "\n",
        "print(df.head(5))\n",
        "\n"
      ],
      "execution_count": null,
      "outputs": [
        {
          "output_type": "stream",
          "text": [
            "   #                   Name Type 1  Type 2  HP  Attack  Defense  Sp. Atk  \\\n",
            "0  1              Bulbasaur  Grass  Poison  45      49       49       65   \n",
            "1  2                Ivysaur  Grass  Poison  60      62       63       80   \n",
            "2  3               Venusaur  Grass  Poison  80      82       83      100   \n",
            "3  3  VenusaurMega Venusaur  Grass  Poison  80     100      123      122   \n",
            "4  4             Charmander   Fire     NaN  39      52       43       60   \n",
            "\n",
            "   Sp. Def  Speed  Generation  Legendary  \n",
            "0       65     45           1      False  \n",
            "1       80     60           1      False  \n",
            "2      100     80           1      False  \n",
            "3      120     80           1      False  \n",
            "4       50     65           1      False  \n"
          ],
          "name": "stdout"
        }
      ]
    },
    {
      "cell_type": "code",
      "metadata": {
        "id": "KBdJWbMM8uWC",
        "colab_type": "code",
        "colab": {},
        "outputId": "653665e1-dd04-446f-9491-6cf8a4678274"
      },
      "source": [
        "import pandas as pd\n",
        "\n",
        "df = pd.read_csv('pokemon_data.csv')\n",
        "\n",
        "# print(df.head(5))\n",
        "\n",
        "# df_xlsx = pd.read_excel('pokemon_data.xlsx')\n",
        "# print(df_xlsx.head(3))\n",
        "\n",
        "# df = pd.read_csv('pokemon_data.txt', delimiter='\\t')\n",
        "\n",
        "print(df.head(5))"
      ],
      "execution_count": null,
      "outputs": [
        {
          "output_type": "stream",
          "text": [
            "   #                   Name Type 1  Type 2  HP  Attack  Defense  Sp. Atk  \\\n",
            "0  1              Bulbasaur  Grass  Poison  45      49       49       65   \n",
            "1  2                Ivysaur  Grass  Poison  60      62       63       80   \n",
            "2  3               Venusaur  Grass  Poison  80      82       83      100   \n",
            "3  3  VenusaurMega Venusaur  Grass  Poison  80     100      123      122   \n",
            "4  4             Charmander   Fire     NaN  39      52       43       60   \n",
            "\n",
            "   Sp. Def  Speed  Generation  Legendary  \n",
            "0       65     45           1      False  \n",
            "1       80     60           1      False  \n",
            "2      100     80           1      False  \n",
            "3      120     80           1      False  \n",
            "4       50     65           1      False  \n"
          ],
          "name": "stdout"
        }
      ]
    },
    {
      "cell_type": "code",
      "metadata": {
        "id": "0q18T6m88uWG",
        "colab_type": "code",
        "colab": {},
        "outputId": "309c2846-98d7-4825-afdb-4a6d8b18d0ad"
      },
      "source": [
        "import matplotlib.pyplot as plt\n",
        "import numpy as np\n",
        "import pandas as pd\n",
        "\n",
        "x = [0,1,2,3,4]\n",
        "y = [0,2,4,6,8]\n",
        "\n",
        "# Resize your Graph (dpi specifies pixels per inch. When saving probably should use 300 if possible)\n",
        "plt.figure(figsize=(8,5), dpi=100)\n",
        "\n",
        "# Line 1\n",
        "\n",
        "# Keyword Argument Notation\n",
        "#plt.plot(x,y, label='2x', color='red', linewidth=2, marker='.', linestyle='--', markersize=10, markeredgecolor='blue')\n",
        "\n",
        "# Shorthand notation\n",
        "# fmt = '[color][marker][line]'\n",
        "plt.plot(x,y, 'b^--', label='2x')\n",
        "\n",
        "## Line 2\n",
        "\n",
        "# select interval we want to plot points at\n",
        "x2 = np.arange(0,4.5,0.5)\n",
        "\n",
        "# Plot part of the graph as line\n",
        "plt.plot(x2[:6], x2[:6]**2, 'r', label='X^2')\n",
        "\n",
        "# Plot remainder of graph as a dot\n",
        "plt.plot(x2[5:], x2[5:]**2, 'r--')\n",
        "\n",
        "# Add a title (specify font parameters with fontdict)\n",
        "plt.title('Our First Graph!', fontdict={'fontname': 'Comic Sans MS', 'fontsize': 20})\n",
        "\n",
        "# X and Y labels\n",
        "plt.xlabel('X Axis')\n",
        "plt.ylabel('Y Axis')\n",
        "\n",
        "# X, Y axis Tickmarks (scale of your graph)\n",
        "plt.xticks([0,1,2,3,4,])\n",
        "#plt.yticks([0,2,4,6,8,10])\n",
        "\n",
        "# Add a legend\n",
        "plt.legend()\n",
        "\n",
        "# Save figure (dpi 300 is good when saving so graph has high resolution)\n",
        "plt.savefig('mygraph.png', dpi=300)\n",
        "\n",
        "# Show plot\n",
        "plt.show()"
      ],
      "execution_count": null,
      "outputs": [
        {
          "output_type": "display_data",
          "data": {
            "image/png": "[encoded data removed]",
            "text/plain": [
              "<Figure size 800x500 with 1 Axes>"
            ]
          },
          "metadata": {
            "tags": [],
            "needs_background": "light"
          }
        }
      ]
    },
    {
      "cell_type": "code",
      "metadata": {
        "id": "Gf5GyId98uWL",
        "colab_type": "code",
        "colab": {
          "base_uri": "https://localhost:8080/",
          "height": 506
        },
        "outputId": "3606e7b2-98bc-44b8-9de4-56e866b0aaed"
      },
      "source": [
        "import matplotlib.pyplot as plt\n",
        "import numpy as np\n",
        "import pandas as pd\n",
        "\n",
        "x = [0,1,2,3,4]\n",
        "y = [0,2,4,6,8]\n",
        "\n",
        "# Resize your Graph (dpi specifies pixels per inch. When saving probably should use 300 if possible)\n",
        "plt.figure(figsize=(8,5), dpi=100)\n",
        "\n",
        "# Line 1\n",
        "\n",
        "# Keyword Argument Notation\n",
        "#plt.plot(x,y, label='2x', color='red', linewidth=2, marker='.', linestyle='--', markersize=10, markeredgecolor='blue')\n",
        "\n",
        "# Shorthand notation\n",
        "# fmt = '[color][marker][line]'\n",
        "plt.plot(x,y, 'b^--', label='2x')\n",
        "\n",
        "## Line 2\n",
        "\n",
        "# select interval we want to plot points at\n",
        "x2 = np.arange(0,4.5,0.5)\n",
        "\n",
        "# Plot part of the graph as line\n",
        "plt.plot(x2[:6], x2[:6]**2, 'r', label='X^2')\n",
        "\n",
        "# Plot remainder of graph as a dot\n",
        "plt.plot(x2[5:], x2[5:]**2, 'r--')\n",
        "\n",
        "# Add a title (specify font parameters with fontdict)\n",
        "plt.title('Our First Graph!', fontdict={'fontname': 'Comic Sans MS', 'fontsize': 20})\n",
        "\n",
        "# X and Y labels\n",
        "plt.xlabel('X Axis')\n",
        "plt.ylabel('Y Axis')\n",
        "\n",
        "# X, Y axis Tickmarks (scale of your graph)\n",
        "plt.xticks([0,1,2,3,4,])\n",
        "#plt.yticks([0,2,4,6,8,10])\n",
        "\n",
        "# Add a legend\n",
        "plt.legend()\n",
        "\n",
        "# Save figure (dpi 300 is good when saving so graph has high resolution)\n",
        "plt.savefig('mygraph.png', dpi=300)\n",
        "\n",
        "# Show plot\n",
        "plt.show()"
      ],
      "execution_count": null,
      "outputs": [
        {
          "output_type": "stream",
          "text": [
            "findfont: Font family ['Comic Sans MS'] not found. Falling back to DejaVu Sans.\n"
          ],
          "name": "stderr"
        },
        {
          "output_type": "display_data",
          "data": {
            "image/png": "[encoded data removed]",
            "text/plain": [
              "<Figure size 800x500 with 1 Axes>"
            ]
          },
          "metadata": {
            "tags": [],
            "needs_background": "light"
          }
        }
      ]
    }
  ]
}